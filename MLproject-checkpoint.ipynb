{
 "cells": [
  {
   "cell_type": "markdown",
   "id": "992e1022",
   "metadata": {},
   "source": [
    "<div align=\"center\">\n",
    "<h1 style=\"color:rgb(47,84,150);\">Appendix</h1>\n",
    "</div>"
   ]
  },
  {
   "cell_type": "code",
   "execution_count": 10,
   "id": "951d570d",
   "metadata": {},
   "outputs": [],
   "source": [
    "# Import necessary packages and modules\n",
    "from PIL import Image\n",
    "from sklearn.linear_model import LinearRegression\n",
    "from sklearn.metrics import mean_squared_error\n",
    "from sklearn.model_selection import KFold\n",
    "from sklearn.preprocessing import MinMaxScaler\n",
    "import matplotlib.pyplot as plt\n",
    "import numpy as np\n",
    "import scipy as sp\n",
    "import os"
   ]
  },
  {
   "cell_type": "code",
   "execution_count": 11,
   "id": "26dae0b0",
   "metadata": {},
   "outputs": [],
   "source": [
    "# File path-related constants\n",
    "Image_Path = \"\" # your path to the images folder\n",
    "\n",
    "# Image-related constants\n",
    "Image_Height = 484\n",
    "Image_Width = 644\n",
    "File_Extension = '.bmp'\n",
    "Cropped_Left = int(Image_Width*0.45)\n",
    "Cropped_Right = int(Image_Width*0.85)\n",
    "Cropped_Top = int(Image_Height*0.1)\n",
    "Cropped_Bottom = int(Image_Height*0.65)\n",
    "\n",
    "# Signal related constants\n",
    "Min_Wavelength = 470\n",
    "Max_Wavelength = 740\n",
    "Num_Wavelengths = 271\n",
    "Wavelengths = np.linspace(Min_Wavelength, Max_Wavelength, Num_Wavelengths)\n"
   ]
  },
  {
   "cell_type": "code",
   "execution_count": 12,
   "id": "4b14a496",
   "metadata": {},
   "outputs": [],
   "source": [
    "# Function used to return the Gray values (i.e. intensity) of a specific pixel for a given image\n",
    "def gray_values(wavelength, pixel):\n",
    "    # print(f'Extracting the gray values for image at {image_path}\\n(Target pixel: {pixel}')\n",
    "    this_image_path = os.path.join(Image_Path, str(int(wavelength)) + '.bmp')\n",
    "    this_image = Image.open(this_image_path)\n",
    "    rgb = this_image.getpixel(pixel)\n",
    "    gray = sum(rgb[:3])\n",
    "    return gray"
   ]
  },
  {
   "cell_type": "code",
   "execution_count": 13,
   "id": "7867a8bb",
   "metadata": {},
   "outputs": [],
   "source": [
    "# Parameters\n",
    "Sampling_Factor = 10\n",
    "Testing_Ratio = 0.2                 # Proportion of data points to be considered for testing\n",
    "seed = 180923\n",
    "Num_Folds = 5                       # Number of folds for k-cross validation\n",
    "k = 5\n",
    "show_folds = False"
   ]
  },
  {
   "cell_type": "code",
   "execution_count": 14,
   "id": "d0ac843d",
   "metadata": {},
   "outputs": [],
   "source": [
    "# Constants\n",
    "Num_Pixels = Sampling_Factor**2\n",
    "inter_num = Num_Wavelengths*k\n",
    "Num_Testing_Signals = int(Testing_Ratio*inter_num)\n",
    "Num_TrainNVal_Signals = Num_Wavelengths - Num_Testing_Signals"
   ]
  },
  {
   "cell_type": "markdown",
   "id": "98bd8daa",
   "metadata": {},
   "source": [
    "<div align=\"center\">\n",
    "    <h2 style=\"color:rgb(47,84,150);\">Preprocessing</h2>\n",
    "</div>\n"
   ]
  },
  {
   "cell_type": "code",
   "execution_count": 15,
   "id": "4a2dee26",
   "metadata": {},
   "outputs": [],
   "source": [
    "# Construct NumPy array containing an evenly spaced set of points corresponding to pixels on the image\n",
    "x_coords = np.linspace(Cropped_Left, Cropped_Right, Sampling_Factor)\n",
    "y_coords = np.linspace(Cropped_Top, Cropped_Bottom, Sampling_Factor)\n",
    "x_grid, y_grid = np.meshgrid(x_coords, y_coords)\n",
    "pixels = np.column_stack((x_grid.flatten(), y_grid.flatten()))"
   ]
  },
  {
   "cell_type": "markdown",
   "id": "99ff24fb",
   "metadata": {},
   "source": [
    "<div align=\"center\">\n",
    "    <h3 style=\"color:rgb(47,84,150);\">Interpolation</h3>\n",
    "</div>\n"
   ]
  },
  {
   "cell_type": "code",
   "execution_count": 16,
   "id": "11d31cd9",
   "metadata": {},
   "outputs": [],
   "source": [
    "# defining arrays for the feautures and interpolated labels\n",
    "y_interpolated = np.linspace(Min_Wavelength, Max_Wavelength, inter_num)\n",
    "X_interpolated= np.zeros((inter_num, Num_Pixels))\n",
    "X = np.zeros((Num_Wavelengths, Num_Pixels))\n",
    "\n",
    "for i in range(Num_Wavelengths):\n",
    "  for j in range(Num_Pixels):\n",
    "      X[i, j] = gray_values(Wavelengths[i], tuple(pixels[j]))"
   ]
  },
  {
   "cell_type": "code",
   "execution_count": 17,
   "id": "1541496c",
   "metadata": {},
   "outputs": [],
   "source": [
    "# Interpolate the feature data for the desired wavelengths\n",
    "for r in range(Num_Pixels):\n",
    "   X_interpolated[:,r] = sp.interpolate.UnivariateSpline(Wavelengths, X[:, r])(y_interpolated[:])\n",
    "\n",
    "# Convert the result to a NumPy array\n",
    "X_interpolated = np.array(X_interpolated)"
   ]
  },
  {
   "cell_type": "markdown",
   "id": "9db199a7",
   "metadata": {},
   "source": [
    "<div align=\"center\">\n",
    "    <h3 style=\"color:rgb(47,84,150);\">Spliting the data</h3>\n",
    "</div>\n"
   ]
  },
  {
   "cell_type": "code",
   "execution_count": 18,
   "id": "d993943a",
   "metadata": {},
   "outputs": [],
   "source": [
    "# Separate the labels of the dataset into two arrays for training and testing\n",
    "np.random.seed(seed)\n",
    "indices = np.random.permutation(inter_num)\n",
    "y_test = y_interpolated[indices[:Num_Testing_Signals]]\n",
    "y_trainNval = y_interpolated[indices[Num_Testing_Signals:]]\n",
    "\n",
    "# Construct the feature arrays for training and testing\n",
    "X_trainNVal = X_interpolated[indices[Num_Testing_Signals:],:]\n",
    "X_test = X_interpolated[indices[:Num_Testing_Signals],:]"
   ]
  },
  {
   "cell_type": "markdown",
   "id": "e6eb8c21",
   "metadata": {},
   "source": [
    "<div align=\"center\">\n",
    "    <h3 style=\"color:rgb(47,84,150);\">Normalization</h3>\n",
    "</div>"
   ]
  },
  {
   "cell_type": "code",
   "execution_count": 19,
   "id": "9fef418e",
   "metadata": {},
   "outputs": [],
   "source": [
    "# Normalizing the data\n",
    "\n",
    "# Initialize the MinMaxScaler\n",
    "scaler = MinMaxScaler()\n",
    "\n",
    "# Fit the scaler on training data and transform it\n",
    "X_train_scaled = scaler.fit_transform(X_trainNVal)\n",
    "\n",
    "# Transform test data using the same scaler\n",
    "X_test_scaled = scaler.transform(X_test)"
   ]
  },
  {
   "cell_type": "markdown",
   "id": "cd5925af",
   "metadata": {},
   "source": [
    "<div align=\"center\">\n",
    "    <h2 style=\"color:rgb(47,84,150);\">Linear Regression</h2>\n",
    "</div>\n"
   ]
  },
  {
   "cell_type": "code",
   "execution_count": 20,
   "id": "1b8b091f",
   "metadata": {},
   "outputs": [
    {
     "name": "stdout",
     "output_type": "stream",
     "text": [
      "Mean MSE across all folds: 82.49780763983922\n"
     ]
    }
   ],
   "source": [
    "# Perform KFold cross-validation\n",
    "kf = KFold(n_splits=Num_Folds)\n",
    "mse_scores = []\n",
    "\n",
    "for fold_num, (train_index, val_index) in enumerate(kf.split(X_train_scaled)):\n",
    "    X_train, X_val = X_train_scaled[train_index], X_train_scaled[val_index]\n",
    "    y_train, y_val = y_trainNval[train_index], y_trainNval[val_index]\n",
    "\n",
    "    # Create a Linear Regression model\n",
    "    model = LinearRegression()\n",
    "\n",
    "    # Fit the model on the training data\n",
    "    model.fit(X_train, y_train)\n",
    "\n",
    "    # Make predictions on the test data\n",
    "    y_pred = model.predict(X_val)\n",
    "\n",
    "    # Caclulate Mean Squared Error (MSE) for this fold\n",
    "    mse = mean_squared_error(y_val, y_pred)\n",
    "    mse_scores.append(mse)\n",
    "    if mse == min(mse_scores):\n",
    "       best_fold = fold_num\n",
    "       y_test_pred = model.predict(X_test_scaled)\n",
    "\n",
    "\n",
    "    if show_folds:\n",
    "        plt.scatter(y_val, y_pred, color='blue')\n",
    "        plt.xlabel('True Wavelength')\n",
    "        plt.ylabel('Predicted Wavelength')\n",
    "        plt.title(f'Predicted Wavelength vs True Wavelength (Fold: {fold_num})')\n",
    "        plt.show()\n",
    "mean_mse = np.mean(mse_scores)\n",
    "print('Mean MSE across all folds:', mean_mse)"
   ]
  },
  {
   "cell_type": "code",
   "execution_count": 21,
   "id": "3989e54a",
   "metadata": {},
   "outputs": [
    {
     "data": {
      "image/png": "[encoded data removed]",
      "text/plain": [
       "<Figure size 640x480 with 1 Axes>"
      ]
     },
     "metadata": {},
     "output_type": "display_data"
    }
   ],
   "source": [
    "plt.scatter(y_test, y_test_pred, color='purple')\n",
    "plt.xlabel('True Wavelength')\n",
    "plt.ylabel('Predicted Wavelength')\n",
    "plt.title(f'Predicted Wavelength vs True Wavelength (Fold: {best_fold})')\n",
    "plt.show()"
   ]
  }
 ],
 "metadata": {
  "kernelspec": {
   "display_name": "Python 3 (ipykernel)",
   "language": "python",
   "name": "python3"
  },
  "language_info": {
   "codemirror_mode": {
    "name": "ipython",
    "version": 3
   },
   "file_extension": ".py",
   "mimetype": "text/x-python",
   "name": "python",
   "nbconvert_exporter": "python",
   "pygments_lexer": "ipython3",
   "version": "3.11.4"
  }
 },
 "nbformat": 4,
 "nbformat_minor": 5
}
